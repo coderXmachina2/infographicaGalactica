{
 "cells": [
  {
   "cell_type": "code",
   "execution_count": 1,
   "metadata": {},
   "outputs": [
    {
     "data": {
      "text/plain": [
       "-1"
      ]
     },
     "execution_count": 1,
     "metadata": {},
     "output_type": "execute_result"
    }
   ],
   "source": [
    "#scrape nasa exo tables NICE NICE!\n",
    "\n",
    "import requests\n",
    "import urllib.request\n",
    "import time\n",
    "import pandas as pd\n",
    "import numpy as np\n",
    "from bs4 import BeautifulSoup\n",
    "\n",
    "pd.set_option('display.max_colwidth', -1)\n",
    "pd.options.display.max_colwidth"
   ]
  },
  {
   "cell_type": "code",
   "execution_count": 2,
   "metadata": {},
   "outputs": [],
   "source": [
    "url = \"https://exoplanetarchive.ipac.caltech.edu/docs/API_exoplanet_columns.html\"\n",
    "response = requests.get(url)"
   ]
  },
  {
   "cell_type": "code",
   "execution_count": 3,
   "metadata": {},
   "outputs": [],
   "source": [
    "soup = BeautifulSoup(response.text, 'html.parser')"
   ]
  },
  {
   "cell_type": "code",
   "execution_count": 4,
   "metadata": {},
   "outputs": [
    {
     "name": "stdout",
     "output_type": "stream",
     "text": [
      "Number of headers: 6\n",
      "Number of tables: 5\n"
     ]
    }
   ],
   "source": [
    "pageHeaders = soup.findAll('h2' )\n",
    "allTables = soup.findAll('table' )\n",
    "\n",
    "print(\"Number of headers: \" + str(len(pageHeaders)))\n",
    "print(\"Number of tables: \" + str(len(allTables)))"
   ]
  },
  {
   "cell_type": "code",
   "execution_count": 5,
   "metadata": {},
   "outputs": [],
   "source": [
    "#extract Tables\n",
    "tables = [\n",
    "    [\n",
    "        [td.get_text(strip=True) for td in tr.find_all('td')] \n",
    "        for tr in table.find_all('tr')\n",
    "    ] \n",
    "    for table in allTables\n",
    "]"
   ]
  },
  {
   "cell_type": "code",
   "execution_count": 6,
   "metadata": {},
   "outputs": [
    {
     "name": "stdout",
     "output_type": "stream",
     "text": [
      "Digital Object Identifier 33 parameters\n",
      "Default Columns 41 parameters\n",
      "Planet Columns 36 parameters\n",
      "Stellar  Columns 25 parameters\n",
      "Photometry Columns 12 parameters\n",
      "\n",
      "Total number of parameter describing exoplanets = 147\n",
      "\n"
     ]
    },
    {
     "ename": "NameError",
     "evalue": "name 'dfDef' is not defined",
     "output_type": "error",
     "traceback": [
      "\u001b[1;31m---------------------------------------------------------------------------\u001b[0m",
      "\u001b[1;31mNameError\u001b[0m                                 Traceback (most recent call last)",
      "\u001b[1;32m<ipython-input-6-46d330481f9c>\u001b[0m in \u001b[0;36m<module>\u001b[1;34m\u001b[0m\n\u001b[0;32m      6\u001b[0m \u001b[0mprint\u001b[0m\u001b[1;33m(\u001b[0m\u001b[1;34m\"\\nTotal number of parameter describing exoplanets = \"\u001b[0m \u001b[1;33m+\u001b[0m \u001b[0mstr\u001b[0m\u001b[1;33m(\u001b[0m\u001b[0mparamCount\u001b[0m\u001b[1;33m)\u001b[0m \u001b[1;33m+\u001b[0m \u001b[1;34m\"\\n\"\u001b[0m\u001b[1;33m)\u001b[0m\u001b[1;33m\u001b[0m\u001b[1;33m\u001b[0m\u001b[0m\n\u001b[0;32m      7\u001b[0m \u001b[1;33m\u001b[0m\u001b[0m\n\u001b[1;32m----> 8\u001b[1;33m \u001b[0mprint\u001b[0m\u001b[1;33m(\u001b[0m\u001b[0mlen\u001b[0m\u001b[1;33m(\u001b[0m\u001b[0mdfDef\u001b[0m\u001b[1;33m)\u001b[0m\u001b[1;33m)\u001b[0m\u001b[1;33m\u001b[0m\u001b[1;33m\u001b[0m\u001b[0m\n\u001b[0m\u001b[0;32m      9\u001b[0m \u001b[0mprint\u001b[0m\u001b[1;33m(\u001b[0m\u001b[0mlen\u001b[0m\u001b[1;33m(\u001b[0m\u001b[0mdfPl\u001b[0m\u001b[1;33m)\u001b[0m\u001b[1;33m)\u001b[0m\u001b[1;33m\u001b[0m\u001b[1;33m\u001b[0m\u001b[0m\n\u001b[0;32m     10\u001b[0m \u001b[0mprint\u001b[0m\u001b[1;33m(\u001b[0m\u001b[0mlen\u001b[0m\u001b[1;33m(\u001b[0m\u001b[0mdfSt\u001b[0m\u001b[1;33m)\u001b[0m\u001b[1;33m)\u001b[0m\u001b[1;33m\u001b[0m\u001b[1;33m\u001b[0m\u001b[0m\n",
      "\u001b[1;31mNameError\u001b[0m: name 'dfDef' is not defined"
     ]
    }
   ],
   "source": [
    "paramCount = 0\n",
    "for i in range (0, len(tables)):\n",
    "    paramCount = paramCount + len(tables[i])\n",
    "    print(pageHeaders[i].text + \" \" +  str(len(tables[i])) + \" parameters\")\n",
    "    \n",
    "print(\"\\nTotal number of parameter describing exoplanets = \" + str(paramCount) + \"\\n\")\n",
    "\n",
    "print(len(dfDef))\n",
    "print(len(dfPl))\n",
    "print(len(dfSt))\n",
    "print(len(dfPho))\n",
    "print(len(dfClr))"
   ]
  },
  {
   "cell_type": "code",
   "execution_count": null,
   "metadata": {},
   "outputs": [],
   "source": [
    "#these were missing\n",
    "tables[0][0] = 'Database Column Name','Table Label','Description', 'Uncertainties Column (positive +) (negative -)', 'Displayed String Name','Limit Column','Number of Measurements'\n",
    "tables[1][0] = 'Database Column Name','Table Label','Description', 'Uncertainties Column (positive +) (negative -)', 'Displayed String Name','Limit Column','Number of Measurements'\n",
    "tables[2][0] = 'Database Column Name','Table Label','Description', 'Uncertainties Column (positive +) (negative -)', 'Displayed String Name','Limit Column','Number of Measurements'\n",
    "tables[3][0] = 'Database Column Name','Table Label','Description', 'Uncertainties Column (positive +) (negative -)', 'Displayed String Name','Limit Column','Number of Measurements'\n",
    "tables[4][0] = 'Database Column Name','Table Label','Description', 'Uncertainties Column (positive +) (negative -)', 'Displayed String Name','Limit Column','Number of Measurements'\n",
    "\n",
    "print(tables[0][0])\n",
    "print(tables[1][0])\n",
    "print(tables[2][0])\n",
    "print(tables[3][0])\n",
    "print(tables[4][0])"
   ]
  },
  {
   "cell_type": "code",
   "execution_count": null,
   "metadata": {},
   "outputs": [],
   "source": [
    "#reconstruct table\n",
    "#table 0  item 1 column\n",
    "a = tables[0][1][0].encode('ascii', 'ignore').decode('ascii')\n",
    "print(a)\n",
    "print(tables[0][1][1])\n",
    "print(tables[0][1][2])"
   ]
  },
  {
   "cell_type": "code",
   "execution_count": null,
   "metadata": {},
   "outputs": [],
   "source": [
    "len(tables[0])"
   ]
  },
  {
   "cell_type": "code",
   "execution_count": null,
   "metadata": {},
   "outputs": [],
   "source": [
    "df = pd.DataFrame(columns=[\"Database Column Name\", \"Table Label\", \"Description\"])\n",
    "df"
   ]
  },
  {
   "cell_type": "code",
   "execution_count": null,
   "metadata": {},
   "outputs": [],
   "source": [
    "#here is one example of how to do it. didn't turn up too well to spec\n",
    "\n",
    "countUp = 0\n",
    "for t in range(0,len(tables)):\n",
    "    for p in range(1, len(tables[t])):\n",
    "        df.loc[countUp] = [tables[t][p][0].encode('ascii', 'ignore').decode('ascii')] + [tables[t][p][1]] + [tables[t][p][2].replace(\"\\n\", \" \")]\n",
    "        countUp += 1\n",
    "        if(p == len(tables[t]) - 1): #end of table\n",
    "            df.loc[countUp+1] = [\" \"] + [\" \"] + [\" \"] #\n",
    "            countUp += 1\n",
    "\n",
    "#this seems fairly accurate\n",
    "export_csv = df.to_csv (r'C:\\Users\\afiqAUT\\Documents\\projectRepos\\infographicaRepo\\infographicaGalactica\\export_dataframe.csv', index = None, header=True)"
   ]
  },
  {
   "cell_type": "code",
   "execution_count": null,
   "metadata": {},
   "outputs": [],
   "source": [
    "df"
   ]
  },
  {
   "cell_type": "code",
   "execution_count": null,
   "metadata": {},
   "outputs": [],
   "source": [
    "df.to_html('NASAexoplanetsAttributesAndDefinition.html')"
   ]
  },
  {
   "cell_type": "code",
   "execution_count": 79,
   "metadata": {},
   "outputs": [],
   "source": [
    "#here is a second solution\n",
    "#array of pandasdataframes?\n",
    "#try that\n",
    "\n",
    "\n"
   ]
  },
  {
   "cell_type": "code",
   "execution_count": 80,
   "metadata": {},
   "outputs": [],
   "source": [
    "#here is a third\n",
    "#what if we made 5 separate dataframes\n",
    "#then appended them to a giant data frame\n",
    "\n",
    "dfComb = pd.DataFrame(columns=[\"Database Column Name\", \"Table Label\", \"Description\"])\n",
    "dfDef = pd.DataFrame(columns=[\"Database Column Name\", \"Table Label\", \"Description\"])\n",
    "dfPl  = pd.DataFrame(columns=[\"Database Column Name\", \"Table Label\", \"Description\"])\n",
    "dfSt  = pd.DataFrame(columns=[\"Database Column Name\", \"Table Label\", \"Description\"])\n",
    "dfPho = pd.DataFrame(columns=[\"Database Column Name\", \"Table Label\", \"Description\"])\n",
    "dfClr = pd.DataFrame(columns=[\"Database Column Name\", \"Table Label\", \"Description\"])\n",
    "\n",
    "countUp = 0\n",
    "for p in range(1, len(tables[0])):\n",
    "    dfDef.loc[countUp] = [tables[0][p][0].encode('ascii', 'ignore').decode('ascii')] + [tables[0][p][1]] + [tables[0][p][2]]\n",
    "    countUp += 1\n",
    "\n",
    "countUp = 0\n",
    "for p in range(1, len(tables[1])):\n",
    "    dfPl.loc[countUp] = [tables[1][p][0].encode('ascii', 'ignore').decode('ascii')] + [tables[1][p][1]] + [tables[1][p][2]]\n",
    "    countUp += 1\n",
    "    \n",
    "countUp = 0\n",
    "for p in range(1, len(tables[2])):\n",
    "    dfSt.loc[countUp] = [tables[2][p][0].encode('ascii', 'ignore').decode('ascii')] + [tables[2][p][1]] + [tables[2][p][2]]\n",
    "    countUp += 1\n",
    "    \n",
    "countUp = 0\n",
    "for p in range(1, len(tables[3])):\n",
    "    dfPho.loc[countUp] = [tables[3][p][0].encode('ascii', 'ignore').decode('ascii')] + [tables[3][p][1]] + [tables[3][p][2]]\n",
    "    countUp += 1\n",
    "\n",
    "countUp = 0\n",
    "for p in range(1, len(tables[4])):\n",
    "    dfClr.loc[countUp] = [tables[4][p][0].encode('ascii', 'ignore').decode('ascii')] + [tables[3][p][1]] + [tables[4][p][2]]\n",
    "    countUp += 1\n",
    "\n"
   ]
  },
  {
   "cell_type": "code",
   "execution_count": 81,
   "metadata": {},
   "outputs": [
    {
     "name": "stdout",
     "output_type": "stream",
     "text": [
      "32\n",
      "40\n",
      "35\n",
      "24\n",
      "11\n"
     ]
    },
    {
     "data": {
      "text/plain": [
       "142"
      ]
     },
     "execution_count": 81,
     "metadata": {},
     "output_type": "execute_result"
    }
   ],
   "source": [
    "print(len(dfDef))\n",
    "print(len(dfPl))\n",
    "print(len(dfSt))\n",
    "print(len(dfPho))\n",
    "print(len(dfClr))\n",
    "\n",
    "lens = [32,40,35,24,11]\n",
    "\n",
    "sum(lens)"
   ]
  },
  {
   "cell_type": "code",
   "execution_count": 82,
   "metadata": {},
   "outputs": [
    {
     "data": {
      "text/html": [
       "<div>\n",
       "<style scoped>\n",
       "    .dataframe tbody tr th:only-of-type {\n",
       "        vertical-align: middle;\n",
       "    }\n",
       "\n",
       "    .dataframe tbody tr th {\n",
       "        vertical-align: top;\n",
       "    }\n",
       "\n",
       "    .dataframe thead th {\n",
       "        text-align: right;\n",
       "    }\n",
       "</style>\n",
       "<table border=\"1\" class=\"dataframe\">\n",
       "  <thead>\n",
       "    <tr style=\"text-align: right;\">\n",
       "      <th></th>\n",
       "      <th>Database Column Name</th>\n",
       "      <th>Table Label</th>\n",
       "      <th>Description</th>\n",
       "    </tr>\n",
       "  </thead>\n",
       "  <tbody>\n",
       "  </tbody>\n",
       "</table>\n",
       "</div>"
      ],
      "text/plain": [
       "Empty DataFrame\n",
       "Columns: [Database Column Name, Table Label, Description]\n",
       "Index: []"
      ]
     },
     "execution_count": 82,
     "metadata": {},
     "output_type": "execute_result"
    }
   ],
   "source": [
    "dfComb.append(dfDef , ignore_index = True)\n",
    "dfComb"
   ]
  },
  {
   "cell_type": "code",
   "execution_count": 83,
   "metadata": {},
   "outputs": [
    {
     "data": {
      "text/html": [
       "\n",
       "<p>Definitions of Kepler Confirmed Exoplanet Parameters.</p>\n",
       "\n",
       "\n",
       "<table style=\"width:100%\">\n",
       "  <tr>\n",
       "    <th>Numver</th>\n",
       "    <th>Database Column Name</th>\n",
       "    <th>Table Label</th>\n",
       "    <th>Description</th>\n",
       "  </tr>\n",
       "  \n",
       "  \n",
       "</table>\n",
       "\n",
       "<p>This is a suitable problem for machine learning algorithms to tackle.</p>\n"
      ],
      "text/plain": [
       "<IPython.core.display.HTML object>"
      ]
     },
     "metadata": {},
     "output_type": "display_data"
    }
   ],
   "source": [
    "%%html\n",
    "\n",
    "<p>Definitions of Kepler Confirmed Exoplanet Parameters.</p>\n",
    "\n",
    "\n",
    "<table style=\"width:100%\">\n",
    "  <tr>\n",
    "    <th>Numver</th>\n",
    "    <th>Database Column Name</th>\n",
    "    <th>Table Label</th>\n",
    "    <th>Description</th>\n",
    "  </tr>\n",
    "  \n",
    "  \n",
    "</table>\n",
    "\n",
    "<p>This is a suitable problem for machine learning algorithms to tackle.</p>"
   ]
  },
  {
   "cell_type": "code",
   "execution_count": null,
   "metadata": {},
   "outputs": [],
   "source": []
  },
  {
   "cell_type": "code",
   "execution_count": null,
   "metadata": {},
   "outputs": [],
   "source": []
  }
 ],
 "metadata": {
  "kernelspec": {
   "display_name": "Python 3",
   "language": "python",
   "name": "python3"
  },
  "language_info": {
   "codemirror_mode": {
    "name": "ipython",
    "version": 3
   },
   "file_extension": ".py",
   "mimetype": "text/x-python",
   "name": "python",
   "nbconvert_exporter": "python",
   "pygments_lexer": "ipython3",
   "version": "3.7.1"
  }
 },
 "nbformat": 4,
 "nbformat_minor": 2
}
